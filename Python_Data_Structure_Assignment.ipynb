{
  "nbformat": 4,
  "nbformat_minor": 0,
  "metadata": {
    "colab": {
      "provenance": []
    },
    "kernelspec": {
      "name": "python3",
      "display_name": "Python 3"
    },
    "language_info": {
      "name": "python"
    }
  },
  "cells": [
    {
      "cell_type": "markdown",
      "source": [
        "**Python Data Structure Questions**"
      ],
      "metadata": {
        "id": "NUaijUDX-04v"
      }
    },
    {
      "cell_type": "markdown",
      "source": [
        "1.What are data structures, and why are they important?\n",
        "\n",
        "- Data structure is a way of organizing and storing data so that it can be easily accessed and manipulated.There several data structures like:- string,list,tuples,dictionary and set.Data structure is important because they  organize data efficiently so that the data can be access, process and store leading to faster and optimize codes.They are key to solving problems effectvily in programme.\n",
        "\n",
        "2. Explain the difference between mutable and immutable data types with examples?\n",
        "\n",
        "-  First of all the mutable data types can be modified after creation but immutable data can not be modified after creation and any change creates a new object in memory. The mutable data types are:-\n",
        "list,set and dictionary and the immutable data types are string,tuple,int.\n",
        "\n",
        "Example of mutable:-\n",
        "list_var = [1,2,3,4]\n",
        "list_var[1] = 90\n",
        "print(list_var) :- it will give the result [1,90,3,4]\n",
        "\n",
        "Example of immutable:-\n",
        "tuple_var = (1,2,3)\n",
        "tuple_var[0] = 34 :- it will give error of 'tuple' object does not support item assignment.\n",
        "\n",
        "3.What are the main differences between lists and tuples in Python?\n",
        "\n",
        "- The main diffrence between list and tuples are list is mutable and tuples are immutable.And tuples are faster than list because of its immuatable nature.Tuples are ideal for fixed data or read only data but list are ideal for dynamic collection.List use square brackets and tuples use parentheses.\n",
        "\n",
        "4.Describe how dictionaries store data.\n",
        "\n",
        "- Dictionaries  use a hash table to map each key to a specific memory location enabling very fast lookups,insertion and deletion.\n",
        "\n",
        "Example: {\"name\": \"anand\", \"age\": 30}\n",
        "\n",
        "5.Why might you use a set instead of a list in Python?\n",
        "\n",
        "- We might use set instead of list because of uniqueness of set in set it is automatically remove the duplicate value.And it is also faster than list to check an item is exist or not.It is also perfect for comparing a group of data and also it is memory efficiency.\n",
        "\n",
        "6.What is a string in Python, and how is it different from a list?\n",
        "\n",
        "- A string is a text or set of character which can not be changed but list is a flexible, editable sequnce which can hold anything.\n",
        "\n",
        "7.How do tuples ensure data integrity in Python?\n",
        "\n",
        "- Tuples, once created, cannot be modified or have elements removed. Their immutable nature ensures that data stays unchanged, which helps protect it from accidental alteration. This makes tuples a reliable choice when you want to store fixed, secure, or constant data.\n",
        "\n",
        "8.What is a hash table, and how does it relate to dictionaries in Python?\n",
        "\n",
        "- Hash table uses a hash function to store data  efficiently  by mapping  keys to values.Python dictionaries are hash tables that allow fast access to values using keys, and they handle dynamic resizing and key collisions automatically.\n",
        "\n",
        "9.Can lists contain different data types in Python?\n",
        "\n",
        "- Yes, lists in Python can contain different data types. In Python, lists are heterogeneous, meaning they can store elements of any type — including integers, strings, floats, booleans, and even other lists or dictionaries.\n",
        "\n",
        "10.Explain why strings are immutable in Python.\n",
        "\n",
        "- Strings in python are immutable to optimize memory usage and enable features like hasing and safe usage as dictionary keys.This immuatability nature ensure that the string data can not be altered by any mistake for which it helps to run the programme smoothly.\n",
        "\n",
        "11.What advantages do dictionaries offer over lists for certain tasks?\n",
        "\n",
        "- Dictionary give the advantage when we need the keys associated with values it helps quickly to look into the value by using key.It don't need any indexing.By the quick look feature we can easily remove or update the value.It more likely fatser than the list in certain tasks.\n",
        "\n",
        "12.Describe a scenario where using a tuple would be preferable over a list.\n",
        "\n",
        "- Imagine we're building a system that logs timestamped events, where we need to store the date and time as a pair.Tuple would be greate for saving date and time details of the user. Beacuse of its immutable nature it can not be changed once created.\n",
        "For Example:- Storing a timestamp as a tuple (year, month, day, hour, minute)\n",
        "\n",
        "13.How do sets handle duplicate values in Python?\n",
        "\n",
        "- In Python, sets automatically handle duplicate values by removing them. A set is a collection of unique elements, which means it will only store one instance of any value, and any duplicates are ignored.\n",
        "\n",
        "Example :-\n",
        "my_set = {1, 2, 3, 3, 4, 5, 1}\n",
        "print(my_set)\n",
        "Output: {1, 2, 3, 4, 5}\n",
        "\n",
        "14.How does the “in” keyword work differently for lists and dictionaries?\n",
        "\n",
        "- We use the \"in\" keyword to search for element we are looking for but in list and dictionaries it work differently.\n",
        "In list when we use \"in\" keyword it check for the value in the list exists or not.\n",
        "In  dictionaries when we use \"in\" keyword it check for the keys instead of value.It check of the key is existed or not in dictionary.\n",
        "\n",
        "Example:-\n",
        "LIST :-\n",
        "my_list = [1,2,3,4]\n",
        "print(1 in my_list) # output : True\n",
        "\n",
        "Dictionary:-\n",
        "my_dict = {\"name\":\"anand\",\"age\":30}\n",
        "print(\"name\" in my_dict) #Output: True (checks if the key 'name' is in the dictionary)\n",
        "\n",
        "\n",
        "15.Can you modify the elements of a tuple? Explain why or why not.\n",
        "\n",
        "- No we cannot modify the elements of a tuple once created.Why we can not modify the element of tuples once created because tuples are immutable in nature this means once it created its elements cannot be changed, added, or removed.\n",
        "\n",
        "16.P What is a nested dictionary, and give an example of its use case?\n",
        "\n",
        "- A nested dictionary in Python means that the values of the dictionary are themselves dictionaries — it is a dictionary within a dictionary.\n",
        "Nested dictionaries are useful when you need to store structured, hierarchical data.\n",
        "Use Case:-\n",
        "Imagine we are making a school management system.\n",
        "students = {\n",
        "    \"S001\": {\"name\": \"Anand\",\"age\": 20,\"grades\": {\"math\": 85, \"science\": 92}\n",
        "    },\n",
        "    \"S002\": {\"name\": \"Ajay\",\"age\": 22,\"grades\": {\"math\": 78, \"science\": 88}\n",
        "    }\n",
        "}\n",
        "\n",
        "\n",
        "17. Describe the time complexity of accessing elements in a dictionary.\n",
        "\n",
        "- The time complexity of accessing elements in a dictionary is O(1) on average. This is because Python dictionaries use a hash table internally, which allows for constant-time access to values using keys. In rare cases with many hash collisions, the time complexity can become O(n), but this is uncommon due to Python's efficient handling of collisions.\n",
        "\n",
        "18.In what situations are lists preferred over dictionaries?\n",
        "\n",
        "- Lists are preferred when data is ordered, index-based, allows duplicates, and does not require key-value pairs.\n",
        "\n",
        "19.Why are dictionaries considered unordered, and how does that affect data retrieval?\n",
        "\n",
        "- Dictionaries are considered unordered because they store key-value pairs in an arbitrary order. This means that the order in which items are added to the dictionary does not necessarily reflect the order in which they are retrieved. However, this does not affect data retrieval, as dictionaries allow constant-time (O(1)) access to values using keys, regardless of the order of the elements.\n",
        "\n",
        "20.Explain the difference between a list and a dictionary in terms of data retrieval.\n",
        "\n",
        "- In a list, data is retrieved by its index (position in the sequence). The time complexity for accessing an element by index is O(1), but the order of elements matters.\n",
        "In a dictionary, data is retrieved by its key. The time complexity for accessing a value using a key is also O(1) on average. Dictionaries are unordered collections, so the order of elements does not matter when retrieving data.\n",
        "\n",
        "\n",
        "\n"
      ],
      "metadata": {
        "id": "8geE78ka31Al"
      }
    },
    {
      "cell_type": "markdown",
      "source": [
        "**Practical Questions**"
      ],
      "metadata": {
        "id": "CgZ3GcDC_dmr"
      }
    },
    {
      "cell_type": "code",
      "source": [
        "#1.Write a code to create a string with your name and print it.\n",
        "myname = \"anand\"\n",
        "print(myname)"
      ],
      "metadata": {
        "colab": {
          "base_uri": "https://localhost:8080/"
        },
        "id": "6_PhF7EI_in9",
        "outputId": "3bfc321b-7cdb-4351-e5d7-3787b47c5e83"
      },
      "execution_count": 1,
      "outputs": [
        {
          "output_type": "stream",
          "name": "stdout",
          "text": [
            "anand\n"
          ]
        }
      ]
    },
    {
      "cell_type": "code",
      "source": [
        "#2.Write a code to find the length of the string \"Hello World\".\n",
        "string = \"Hello World\"\n",
        "print(len(string))"
      ],
      "metadata": {
        "colab": {
          "base_uri": "https://localhost:8080/"
        },
        "id": "n34LxocI_whv",
        "outputId": "f280f829-ad66-445d-9158-c40b4f57d173"
      },
      "execution_count": 2,
      "outputs": [
        {
          "output_type": "stream",
          "name": "stdout",
          "text": [
            "11\n"
          ]
        }
      ]
    },
    {
      "cell_type": "code",
      "source": [
        "#3. Write a code to slice the first 3 characters from the string \"Python Programming.\n",
        "string = \"Python Programming\"\n",
        "print(string[:3])"
      ],
      "metadata": {
        "colab": {
          "base_uri": "https://localhost:8080/"
        },
        "id": "gDNbEkl__4eT",
        "outputId": "829bf78e-bf20-454c-e1a5-d6cbb9127b0d"
      },
      "execution_count": 3,
      "outputs": [
        {
          "output_type": "stream",
          "name": "stdout",
          "text": [
            "Pyt\n"
          ]
        }
      ]
    },
    {
      "cell_type": "code",
      "source": [
        "#4.Write a code to convert the string \"hello\" to uppercase.\n",
        "string = \"hello\"\n",
        "print(string.upper())"
      ],
      "metadata": {
        "colab": {
          "base_uri": "https://localhost:8080/"
        },
        "id": "MZHrDuHkAU0J",
        "outputId": "cce27432-cf05-4f78-ea9f-036e6a9181a5"
      },
      "execution_count": 4,
      "outputs": [
        {
          "output_type": "stream",
          "name": "stdout",
          "text": [
            "HELLO\n"
          ]
        }
      ]
    },
    {
      "cell_type": "code",
      "source": [
        "#5.Write a code to replace the word \"apple\" with \"orange\" in the string \"I like apple\".\n",
        "string = \"I like apple\"\n",
        "print(string.replace('apple','orange'))"
      ],
      "metadata": {
        "colab": {
          "base_uri": "https://localhost:8080/"
        },
        "id": "J4WpZh68Alux",
        "outputId": "adbf65c2-487e-4236-dc54-6966bcb9ea5d"
      },
      "execution_count": 6,
      "outputs": [
        {
          "output_type": "stream",
          "name": "stdout",
          "text": [
            "I like orange\n"
          ]
        }
      ]
    },
    {
      "cell_type": "code",
      "source": [
        "#6.Write a code to create a list with numbers 1 to 5 and print it.\n",
        "my_list = list(range(1,6))\n",
        "print(my_list)"
      ],
      "metadata": {
        "colab": {
          "base_uri": "https://localhost:8080/"
        },
        "id": "cpLsJ0H6A2ru",
        "outputId": "1d8532c2-846d-4c27-d795-25afcbb2b83a"
      },
      "execution_count": 7,
      "outputs": [
        {
          "output_type": "stream",
          "name": "stdout",
          "text": [
            "[1, 2, 3, 4, 5]\n"
          ]
        }
      ]
    },
    {
      "cell_type": "code",
      "source": [
        "#7.Write a code to append the number 10 to the list [1, 2, 3, 4].\n",
        "my_list = [1,2,3,4]\n",
        "my_list.append(10)\n",
        "print(my_list)\n"
      ],
      "metadata": {
        "colab": {
          "base_uri": "https://localhost:8080/"
        },
        "id": "AJQLlkx4Bf4N",
        "outputId": "027e6651-4d83-4554-d320-980a19fb0f3e"
      },
      "execution_count": 8,
      "outputs": [
        {
          "output_type": "stream",
          "name": "stdout",
          "text": [
            "[1, 2, 3, 4, 10]\n"
          ]
        }
      ]
    },
    {
      "cell_type": "code",
      "source": [
        "#8.Write a code to remove the number 3 from the list [1, 2, 3, 4, 5].\n",
        "my_list = [1,2,3,4,5]\n",
        "my_list.remove(3)\n",
        "print(my_list)"
      ],
      "metadata": {
        "colab": {
          "base_uri": "https://localhost:8080/"
        },
        "id": "CGiCzIIeBzpp",
        "outputId": "c729a7e5-8ffd-4d8d-9a88-0189fb4c14ef"
      },
      "execution_count": 10,
      "outputs": [
        {
          "output_type": "stream",
          "name": "stdout",
          "text": [
            "[1, 2, 4, 5]\n"
          ]
        }
      ]
    },
    {
      "cell_type": "code",
      "source": [
        "#9.Write a code to access the second element in the list ['a', 'b', 'c', 'd'].\n",
        "my_ele = ['a', 'b', 'c', 'd']\n",
        "print(my_ele[1])"
      ],
      "metadata": {
        "colab": {
          "base_uri": "https://localhost:8080/"
        },
        "id": "H7i8bgmoCCO2",
        "outputId": "ac3e42f7-5ac7-4402-c9d4-9e1b01742c47"
      },
      "execution_count": 11,
      "outputs": [
        {
          "output_type": "stream",
          "name": "stdout",
          "text": [
            "b\n"
          ]
        }
      ]
    },
    {
      "cell_type": "code",
      "source": [
        "#10.Write a code to reverse the list [10, 20, 30, 40, 50].\n",
        "my_list = [10,20,30,40,50]\n",
        "print(my_list[::-1])"
      ],
      "metadata": {
        "colab": {
          "base_uri": "https://localhost:8080/"
        },
        "id": "at14O2xcCLou",
        "outputId": "3102c89e-d811-4b32-e93c-79aaed07c3e0"
      },
      "execution_count": 15,
      "outputs": [
        {
          "output_type": "stream",
          "name": "stdout",
          "text": [
            "[50, 40, 30, 20, 10]\n"
          ]
        }
      ]
    },
    {
      "cell_type": "code",
      "source": [
        "#11.Write a code to create a tuple with the elements 100, 200, 300 and print it.\n",
        "my_tuple = (100, 200, 300)\n",
        "print(my_tuple)"
      ],
      "metadata": {
        "colab": {
          "base_uri": "https://localhost:8080/"
        },
        "id": "ZM8rBeD8C7bT",
        "outputId": "481559fb-c653-460a-e945-3f370ff33502"
      },
      "execution_count": 16,
      "outputs": [
        {
          "output_type": "stream",
          "name": "stdout",
          "text": [
            "(100, 200, 300)\n"
          ]
        }
      ]
    },
    {
      "cell_type": "code",
      "source": [
        "#12.Write a code to access the second-to-last element of the tuple ('red', 'green', 'blue', 'yellow').\n",
        "my_tuple = ('red', 'green', 'blue', 'yellow')\n",
        "print(my_tuple[-2])"
      ],
      "metadata": {
        "colab": {
          "base_uri": "https://localhost:8080/"
        },
        "id": "MZtim6s7DLxZ",
        "outputId": "63c28c8e-7c1d-4cb4-a08e-88e861724567"
      },
      "execution_count": 17,
      "outputs": [
        {
          "output_type": "stream",
          "name": "stdout",
          "text": [
            "blue\n"
          ]
        }
      ]
    },
    {
      "cell_type": "code",
      "source": [
        "#13.Write a code to find the minimum number in the tuple (10, 20, 5, 15).\n",
        "my_tuple = (10, 20, 5, 15)\n",
        "print(min(my_tuple))"
      ],
      "metadata": {
        "colab": {
          "base_uri": "https://localhost:8080/"
        },
        "id": "eoWIMP5fQl5l",
        "outputId": "26afb345-1583-4c00-e71c-a78d40b701d2"
      },
      "execution_count": 18,
      "outputs": [
        {
          "output_type": "stream",
          "name": "stdout",
          "text": [
            "5\n"
          ]
        }
      ]
    },
    {
      "cell_type": "code",
      "source": [
        "#14. Write a code to find the index of the element \"cat\" in the tuple ('dog', 'cat', 'rabbit').\n",
        "my_tuple = ('dog', 'cat', 'rabbit')\n",
        "print(my_tuple.index('cat'))"
      ],
      "metadata": {
        "colab": {
          "base_uri": "https://localhost:8080/"
        },
        "id": "oKnS82wOQ_B-",
        "outputId": "e7a524eb-95d9-4f3d-882c-3b2bde16a344"
      },
      "execution_count": 19,
      "outputs": [
        {
          "output_type": "stream",
          "name": "stdout",
          "text": [
            "1\n"
          ]
        }
      ]
    },
    {
      "cell_type": "code",
      "source": [
        "#15.Write a code to create a tuple containing three different fruits and check if \"kiwi\" is in it.\n",
        "my_tuple = ('apple','orange','kiwi')\n",
        "if \"kiwi\" in my_tuple:\n",
        "    print(\"Kiwi is in the tuple.\")\n",
        "else:\n",
        "    print(\"Kiwi is not in the tuple.\")"
      ],
      "metadata": {
        "colab": {
          "base_uri": "https://localhost:8080/"
        },
        "id": "Y5Qj4MPbRM_G",
        "outputId": "fd578b09-864f-4ba2-8c4f-97d59fa157a1"
      },
      "execution_count": 20,
      "outputs": [
        {
          "output_type": "stream",
          "name": "stdout",
          "text": [
            "Kiwi is in the tuple.\n"
          ]
        }
      ]
    },
    {
      "cell_type": "code",
      "source": [
        "#16.Write a code to create a set with the elements 'a', 'b', 'c' and print it\n",
        "my_set = {'a','b','c'}\n",
        "print(my_set)"
      ],
      "metadata": {
        "colab": {
          "base_uri": "https://localhost:8080/"
        },
        "id": "sYTMoc2BRtCT",
        "outputId": "b761620e-f834-469a-e4e1-8aacd80e0485"
      },
      "execution_count": 28,
      "outputs": [
        {
          "output_type": "stream",
          "name": "stdout",
          "text": [
            "{'c', 'b', 'a'}\n"
          ]
        }
      ]
    },
    {
      "cell_type": "code",
      "source": [
        "#17.Write a code to clear all elements from the set {1, 2, 3, 4, 5}.\n",
        "my_set = {1, 2, 3, 4, 5}\n",
        "my_set.clear()\n",
        "print(my_set)"
      ],
      "metadata": {
        "colab": {
          "base_uri": "https://localhost:8080/"
        },
        "id": "VAmsvMB2SPt4",
        "outputId": "4dec8ce8-6be2-423e-c7a5-cb99272fc152"
      },
      "execution_count": 29,
      "outputs": [
        {
          "output_type": "stream",
          "name": "stdout",
          "text": [
            "set()\n"
          ]
        }
      ]
    },
    {
      "cell_type": "code",
      "source": [
        "#18. Write a code to remove the element 4 from the set {1, 2, 3, 4}.\n",
        "my_set = {1, 2, 3, 4}\n",
        "my_set.remove(4)\n",
        "print(my_set)"
      ],
      "metadata": {
        "colab": {
          "base_uri": "https://localhost:8080/"
        },
        "id": "jwSKe9SJSWnZ",
        "outputId": "8efc8cdf-a31c-481c-8eb3-1ff11e622321"
      },
      "execution_count": 30,
      "outputs": [
        {
          "output_type": "stream",
          "name": "stdout",
          "text": [
            "{1, 2, 3}\n"
          ]
        }
      ]
    },
    {
      "cell_type": "code",
      "source": [
        "#19.Write a code to find the union of two sets {1, 2, 3} and {3, 4, 5}.\n",
        "set1 = {1, 2, 3}\n",
        "set2 = {3, 4, 5}\n",
        "print(set1 | set2)"
      ],
      "metadata": {
        "colab": {
          "base_uri": "https://localhost:8080/"
        },
        "id": "gb-IITDASos0",
        "outputId": "af4c3ee2-998e-4e04-e644-af8577793e21"
      },
      "execution_count": 33,
      "outputs": [
        {
          "output_type": "stream",
          "name": "stdout",
          "text": [
            "{1, 2, 3, 4, 5}\n"
          ]
        }
      ]
    },
    {
      "cell_type": "code",
      "source": [
        "#20. Write a code to find the intersection of two sets {1, 2, 3} and {2, 3, 4}.\n",
        "set1 = {1, 2, 3}\n",
        "set2 = {2, 3, 4}\n",
        "print(set1 & set2)"
      ],
      "metadata": {
        "colab": {
          "base_uri": "https://localhost:8080/"
        },
        "id": "Ixd0nmEdTM8W",
        "outputId": "bbb2f1fe-d383-4560-e830-850e234bd912"
      },
      "execution_count": 34,
      "outputs": [
        {
          "output_type": "stream",
          "name": "stdout",
          "text": [
            "{2, 3}\n"
          ]
        }
      ]
    },
    {
      "cell_type": "code",
      "source": [
        "#21. Write a code to create a dictionary with the keys \"name\", \"age\", and \"city\", and print it.\n",
        "my_dict = {\"name\": \"Anand\", \"age\": 30, \"city\": \"Mumbai\"}\n",
        "print(my_dict)"
      ],
      "metadata": {
        "colab": {
          "base_uri": "https://localhost:8080/"
        },
        "id": "i2cO7PrqTX07",
        "outputId": "0c33cafd-f3de-4e5a-c5cd-ded33646ad61"
      },
      "execution_count": 35,
      "outputs": [
        {
          "output_type": "stream",
          "name": "stdout",
          "text": [
            "{'name': 'Anand', 'age': 30, 'city': 'Mumbai'}\n"
          ]
        }
      ]
    },
    {
      "cell_type": "code",
      "source": [
        "#22.Write a code to add a new key-value pair \"country\": \"USA\" to the dictionary {'name': 'John', 'age': 25}.\n",
        "my_dict = {'name': 'John', 'age': 25}\n",
        "my_dict[\"country\"] = \"USA\"\n",
        "print(my_dict)"
      ],
      "metadata": {
        "colab": {
          "base_uri": "https://localhost:8080/"
        },
        "id": "kD-UUZlZTeS-",
        "outputId": "286db022-761f-45d8-fb1a-49d0a2860d58"
      },
      "execution_count": 36,
      "outputs": [
        {
          "output_type": "stream",
          "name": "stdout",
          "text": [
            "{'name': 'John', 'age': 25, 'country': 'USA'}\n"
          ]
        }
      ]
    },
    {
      "cell_type": "code",
      "source": [
        "#23.Write a code to access the value associated with the key \"name\" in the dictionary {'name': 'Alice', 'age': 30}.\n",
        "my_dict = {'name': 'Alice', 'age': 30}\n",
        "print(my_dict[\"name\"])"
      ],
      "metadata": {
        "colab": {
          "base_uri": "https://localhost:8080/"
        },
        "id": "iOSoZ9ekTjmV",
        "outputId": "3ae5891d-7772-4bd2-f676-f6668459928f"
      },
      "execution_count": 37,
      "outputs": [
        {
          "output_type": "stream",
          "name": "stdout",
          "text": [
            "Alice\n"
          ]
        }
      ]
    },
    {
      "cell_type": "code",
      "source": [
        "#24.Write a code to remove the key \"age\" from the dictionary {'name': 'Bob', 'age': 22, 'city': 'New York'}.\n",
        "my_dict = {'name': 'Bob', 'age': 22, 'city': 'New York'}\n",
        "del my_dict[\"age\"]\n",
        "print(my_dict)"
      ],
      "metadata": {
        "colab": {
          "base_uri": "https://localhost:8080/"
        },
        "id": "_RGVGA7zTpJV",
        "outputId": "15d4951b-1df6-4de2-fd91-a94e8a699c27"
      },
      "execution_count": 38,
      "outputs": [
        {
          "output_type": "stream",
          "name": "stdout",
          "text": [
            "{'name': 'Bob', 'city': 'New York'}\n"
          ]
        }
      ]
    },
    {
      "cell_type": "code",
      "source": [
        "#25. Write a code to check if the key \"city\" exists in the dictionary {'name': 'Alice', 'city': 'Paris'}.\n",
        "my_dict = {'name': 'Alice', 'city': 'Paris'}\n",
        "if \"city\" in my_dict:\n",
        "    print(\"The key 'city' exists.\")\n",
        "else:\n",
        "    print(\"The key 'city' does not exist.\")"
      ],
      "metadata": {
        "colab": {
          "base_uri": "https://localhost:8080/"
        },
        "id": "8MP26AgiUAVa",
        "outputId": "48097a1f-0925-4797-fbd5-cd61a98b05ff"
      },
      "execution_count": 39,
      "outputs": [
        {
          "output_type": "stream",
          "name": "stdout",
          "text": [
            "The key 'city' exists.\n"
          ]
        }
      ]
    },
    {
      "cell_type": "code",
      "source": [
        "#26.Write a code to create a list, a tuple, and a dictionary, and print them all.\n",
        "my_list = [1,2,3,4]\n",
        "my_tuple = (1,2,3,4)\n",
        "my_dict = {\"name\":\"anand\",\"age\":30}\n",
        "\n",
        "print(\"my list:\",my_list)\n",
        "print(\"my tuple:\",my_tuple)\n",
        "print(\"my dictionary:\",my_dict)"
      ],
      "metadata": {
        "colab": {
          "base_uri": "https://localhost:8080/"
        },
        "id": "17WXmDydUH9J",
        "outputId": "d1b66fb1-4bf9-449f-8d26-34a853a96c99"
      },
      "execution_count": 40,
      "outputs": [
        {
          "output_type": "stream",
          "name": "stdout",
          "text": [
            "my list: [1, 2, 3, 4]\n",
            "my tuple: (1, 2, 3, 4)\n",
            "my dictionary: {'name': 'anand', 'age': 30}\n"
          ]
        }
      ]
    },
    {
      "cell_type": "code",
      "source": [
        "#27.Write a code to create a list of 5 random numbers between 1 and 100, sort it in ascending order, and print the result.(replaced)\n",
        "my_list = [12,90,45,67,33]\n",
        "my_list.sort()\n",
        "print(my_list)\n"
      ],
      "metadata": {
        "colab": {
          "base_uri": "https://localhost:8080/"
        },
        "id": "EkDax0_9URDk",
        "outputId": "7c270b21-4261-473b-848b-8a2f87203af6"
      },
      "execution_count": 42,
      "outputs": [
        {
          "output_type": "stream",
          "name": "stdout",
          "text": [
            "[12, 33, 45, 67, 90]\n"
          ]
        }
      ]
    },
    {
      "cell_type": "code",
      "source": [
        "#28.Write a code to create a list with strings and print the element at the third index.\n",
        "my_list = [\"apple\",\"banana\",\"orange\",\"kiwi\",\"mango\"]\n",
        "print(my_list[3])"
      ],
      "metadata": {
        "colab": {
          "base_uri": "https://localhost:8080/"
        },
        "id": "OrUw2hGOU0lq",
        "outputId": "9ce80ff7-f01c-41f1-ce1e-c013a62115cf"
      },
      "execution_count": 43,
      "outputs": [
        {
          "output_type": "stream",
          "name": "stdout",
          "text": [
            "kiwi\n"
          ]
        }
      ]
    },
    {
      "cell_type": "code",
      "source": [
        "#29.Write a code to combine two dictionaries into one and print the result.\n",
        "dict1 = {\"name\":\"anand\",\"age\":30}\n",
        "dict2 = {\"city\":\"mumbai\",\"country\":\"india\"}\n",
        "dict1.update(dict2)\n",
        "print(dict1)\n"
      ],
      "metadata": {
        "colab": {
          "base_uri": "https://localhost:8080/"
        },
        "id": "XdyQJDQ3VNZ0",
        "outputId": "b90ffb42-09d8-4633-8f1a-5b493bd6e898"
      },
      "execution_count": 44,
      "outputs": [
        {
          "output_type": "stream",
          "name": "stdout",
          "text": [
            "{'name': 'anand', 'age': 30, 'city': 'mumbai', 'country': 'india'}\n"
          ]
        }
      ]
    },
    {
      "cell_type": "code",
      "source": [
        "#30.Write a code to convert a list of strings into a set.\n",
        "my_list = [\"orange\",\"apple\",\"banana\",\"kiwi\",\"mango\"]\n",
        "my_set = set(my_list)\n",
        "print(my_set)"
      ],
      "metadata": {
        "colab": {
          "base_uri": "https://localhost:8080/"
        },
        "id": "1EUahD02V9tM",
        "outputId": "a1cc4814-c6ae-4347-ab94-439a8c296188"
      },
      "execution_count": 45,
      "outputs": [
        {
          "output_type": "stream",
          "name": "stdout",
          "text": [
            "{'mango', 'banana', 'apple', 'kiwi', 'orange'}\n"
          ]
        }
      ]
    }
  ]
}